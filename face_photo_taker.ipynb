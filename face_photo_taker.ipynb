{
 "cells": [
  {
   "cell_type": "code",
   "execution_count": 1,
   "metadata": {},
   "outputs": [
    {
     "name": "stdout",
     "output_type": "stream",
     "text": [
      "Camera works, 's' to save and 'q' to exit\n",
      "Photo saved: dataset\\Sembay_Kuanysh_001\\Sembay_Kuanysh_001.jpg\n",
      "Photo saved: dataset\\Sembay_Kuanysh_001\\Sembay_Kuanysh_001.jpg\n",
      "Exiting\n",
      "Photo saved at: dataset\\Sembay_Kuanysh_001\\Sembay_Kuanysh_001.jpg\n"
     ]
    }
   ],
   "source": [
    "import cv2\n",
    "import os\n",
    "\n",
    "output_folder = \"dataset\"\n",
    "if not os.path.exists(output_folder):\n",
    "    os.makedirs(output_folder)\n",
    "\n",
    "def capture_images():\n",
    "    cap = cv2.VideoCapture(0)\n",
    "    print(\"Camera works, 's' to save and 'q' to exit\")\n",
    "    \n",
    "    name = input(\"Enter Surname_Name: \")\n",
    "    user_id = input(\"Enter ID: \")\n",
    "    \n",
    "    # Create user-specific folder\n",
    "    user_folder = os.path.join(output_folder, f\"{name}_{user_id}\")\n",
    "    if not os.path.exists(user_folder):\n",
    "        os.makedirs(user_folder)\n",
    "    \n",
    "    # Define image path\n",
    "    image_path = os.path.join(user_folder, f\"{name}_{user_id}.jpg\")\n",
    "    \n",
    "    while True:\n",
    "        ret, frame = cap.read()\n",
    "        if not ret:\n",
    "            print(\"Error: Unable to access camera\")\n",
    "            break\n",
    "    \n",
    "        cv2.imshow(\"Capture Photo\", frame)\n",
    "\n",
    "        # 's' to save and 'q' to exit\n",
    "        key = cv2.waitKey(1) & 0xFF\n",
    "        if key == ord('s'):\n",
    "            # Save the image, replacing any existing file\n",
    "            cv2.imwrite(image_path, frame)\n",
    "            print(f\"Photo saved: {image_path}\")\n",
    "        elif key == ord('q'):\n",
    "            print(\"Exiting\")\n",
    "            break\n",
    "\n",
    "    cap.release()\n",
    "    cv2.destroyAllWindows()\n",
    "    print(f\"Photo saved at: {image_path}\")\n",
    "\n",
    "if __name__ == \"__main__\":\n",
    "    capture_images()\n"
   ]
  },
  {
   "cell_type": "code",
   "execution_count": null,
   "metadata": {},
   "outputs": [],
   "source": []
  }
 ],
 "metadata": {
  "kernelspec": {
   "display_name": "tf_gpu",
   "language": "python",
   "name": "python3"
  },
  "language_info": {
   "codemirror_mode": {
    "name": "ipython",
    "version": 3
   },
   "file_extension": ".py",
   "mimetype": "text/x-python",
   "name": "python",
   "nbconvert_exporter": "python",
   "pygments_lexer": "ipython3",
   "version": "3.9.19"
  }
 },
 "nbformat": 4,
 "nbformat_minor": 2
}
